{
 "cells": [
  {
   "cell_type": "markdown",
   "metadata": {},
   "source": [
    "Before we get started, a couple of reminders to keep in mind when using iPython notebooks:\n",
    "\n",
    "- Remember that you can see from the left side of a code cell when it was last run if there is a number within the brackets.\n",
    "- When you start a new notebook session, make sure you run all of the cells up to the point where you last left off. Even if the output is still visible from when you ran the cells in your previous session, the kernel starts in a fresh state so you'll need to reload the data, etc. on a new session.\n",
    "- The previous point is useful to keep in mind if your answers do not match what is expected in the lesson's quizzes. Try reloading the data and run all of the processing steps one by one in order to make sure that you are working with the same variables and data that are at each quiz stage.\n",
    "\n",
    "\n",
    "## Load Data from CSVs"
   ]
  },
  {
   "cell_type": "code",
   "execution_count": 1,
   "metadata": {
    "collapsed": true
   },
   "outputs": [],
   "source": [
    "import unicodecsv\n",
    "\n",
    "## Longer version of code (replaced with shorter, equivalent version below)\n",
    "\n",
    "# enrollments = []\n",
    "# f = open('enrollments.csv', 'rb')\n",
    "# reader = unicodecsv.DictReader(f)\n",
    "# for row in reader:\n",
    "#     enrollments.append(row)\n",
    "# f.close()\n",
    "\n",
    "with open('enrollments.csv', 'rb') as f:\n",
    "    reader = unicodecsv.DictReader(f)\n",
    "    enrollments = list(reader)"
   ]
  },
  {
   "cell_type": "code",
   "execution_count": 29,
   "metadata": {},
   "outputs": [],
   "source": [
    "#####################################\n",
    "#                 1                 #\n",
    "#####################################\n",
    "\n",
    "## Read in the data from daily_engagement.csv and project_submissions.csv \n",
    "## and store the results in the below variables.\n",
    "## Then look at the first row of each table.\n",
    "\n",
    "with open('daily_engagement.csv', 'rb') as f:\n",
    "    reader = unicodecsv.DictReader(f)\n",
    "    daily_engagement = list(reader)"
   ]
  },
  {
   "cell_type": "code",
   "execution_count": null,
   "metadata": {
    "collapsed": true
   },
   "outputs": [],
   "source": [
    "with open('project_submissions.csv', 'rb') as f:\n",
    "    reader = unicodecsv.DictReader(f)\n",
    "    project_submissions = list(reader)"
   ]
  },
  {
   "cell_type": "markdown",
   "metadata": {},
   "source": [
    "## Fixing Data Types"
   ]
  },
  {
   "cell_type": "code",
   "execution_count": 4,
   "metadata": {},
   "outputs": [
    {
     "data": {
      "text/plain": [
       "OrderedDict([('account_key', '448'),\n",
       "             ('status', 'canceled'),\n",
       "             ('join_date', datetime.datetime(2014, 11, 10, 0, 0)),\n",
       "             ('cancel_date', datetime.datetime(2015, 1, 14, 0, 0)),\n",
       "             ('days_to_cancel', 65),\n",
       "             ('is_udacity', True),\n",
       "             ('is_canceled', True)])"
      ]
     },
     "execution_count": 4,
     "metadata": {},
     "output_type": "execute_result"
    }
   ],
   "source": [
    "from datetime import datetime as dt\n",
    "\n",
    "# Takes a date as a string, and returns a Python datetime object. \n",
    "# If there is no date given, returns None\n",
    "def parse_date(date):\n",
    "    if date == '':\n",
    "        return None\n",
    "    else:\n",
    "        return dt.strptime(date, '%Y-%m-%d')\n",
    "    \n",
    "# Takes a string which is either an empty string or represents an integer,\n",
    "# and returns an int or None.\n",
    "def parse_maybe_int(i):\n",
    "    if i == '':\n",
    "        return None\n",
    "    else:\n",
    "        return int(i)\n",
    "\n",
    "# Clean up the data types in the enrollments table\n",
    "for enrollment in enrollments:\n",
    "    enrollment['cancel_date'] = parse_date(enrollment['cancel_date'])\n",
    "    enrollment['days_to_cancel'] = parse_maybe_int(enrollment['days_to_cancel'])\n",
    "    enrollment['is_canceled'] = enrollment['is_canceled'] == 'True'\n",
    "    enrollment['is_udacity'] = enrollment['is_udacity'] == 'True'\n",
    "    enrollment['join_date'] = parse_date(enrollment['join_date'])\n",
    "    \n",
    "enrollments[0]"
   ]
  },
  {
   "cell_type": "code",
   "execution_count": 30,
   "metadata": {},
   "outputs": [
    {
     "data": {
      "text/plain": [
       "OrderedDict([('acct', '0'),\n",
       "             ('utc_date', datetime.datetime(2015, 1, 9, 0, 0)),\n",
       "             ('num_courses_visited', 1),\n",
       "             ('total_minutes_visited', 11.6793745),\n",
       "             ('lessons_completed', 0),\n",
       "             ('projects_completed', 0)])"
      ]
     },
     "execution_count": 30,
     "metadata": {},
     "output_type": "execute_result"
    }
   ],
   "source": [
    "# Clean up the data types in the engagement table\n",
    "for engagement_record in daily_engagement:\n",
    "    engagement_record['lessons_completed'] = int(float(engagement_record['lessons_completed']))\n",
    "    engagement_record['num_courses_visited'] = int(float(engagement_record['num_courses_visited']))\n",
    "    engagement_record['projects_completed'] = int(float(engagement_record['projects_completed']))\n",
    "    engagement_record['total_minutes_visited'] = float(engagement_record['total_minutes_visited'])\n",
    "    engagement_record['utc_date'] = parse_date(engagement_record['utc_date'])\n",
    "    \n",
    "daily_engagement[0]"
   ]
  },
  {
   "cell_type": "code",
   "execution_count": 6,
   "metadata": {},
   "outputs": [
    {
     "data": {
      "text/plain": [
       "OrderedDict([('creation_date', datetime.datetime(2015, 1, 14, 0, 0)),\n",
       "             ('completion_date', datetime.datetime(2015, 1, 16, 0, 0)),\n",
       "             ('assigned_rating', 'UNGRADED'),\n",
       "             ('account_key', '256'),\n",
       "             ('lesson_key', '3176718735'),\n",
       "             ('processing_state', 'EVALUATED')])"
      ]
     },
     "execution_count": 6,
     "metadata": {},
     "output_type": "execute_result"
    }
   ],
   "source": [
    "# Clean up the data types in the submissions table\n",
    "for submission in project_submissions:\n",
    "    submission['completion_date'] = parse_date(submission['completion_date'])\n",
    "    submission['creation_date'] = parse_date(submission['creation_date'])\n",
    "\n",
    "project_submissions[0]"
   ]
  },
  {
   "cell_type": "markdown",
   "metadata": {},
   "source": [
    "Note when running the above cells that we are actively changing the contents of our data variables. If you try to run these cells multiple times in the same session, an error will occur.\n",
    "\n",
    "## Investigating the Data"
   ]
  },
  {
   "cell_type": "code",
   "execution_count": 24,
   "metadata": {},
   "outputs": [
    {
     "name": "stdout",
     "output_type": "stream",
     "text": [
      "1640\n",
      "1302\n",
      "136240\n",
      "1237\n",
      "3642\n",
      "743\n"
     ]
    }
   ],
   "source": [
    "enroll_dict = {}\n",
    "for row in enrollments:\n",
    "    enroll_dict[row['account_key']] = True\n",
    "    \n",
    "engage_dict = {}\n",
    "for row in daily_engagement:\n",
    "    engage_dict[row['acct']] = True\n",
    "    \n",
    "submission_dict = {}\n",
    "for row in project_submissions:\n",
    "    submission_dict[row['account_key']] = True    \n",
    "\n",
    "print(len(enrollments))\n",
    "print(len(enroll_dict))\n",
    "\n",
    "print(len(daily_engagement))\n",
    "print(len(engage_dict))\n",
    "\n",
    "print(len(project_submissions))\n",
    "print(len(submission_dict))"
   ]
  },
  {
   "cell_type": "code",
   "execution_count": 41,
   "metadata": {
    "scrolled": true
   },
   "outputs": [],
   "source": [
    "for row in daily_engagement:\n",
    "    row['account_key'] = row['acct']\n",
    "    del row['acct']"
   ]
  },
  {
   "cell_type": "code",
   "execution_count": 28,
   "metadata": {},
   "outputs": [
    {
     "data": {
      "text/plain": [
       "'0'"
      ]
     },
     "execution_count": 28,
     "metadata": {},
     "output_type": "execute_result"
    }
   ],
   "source": [
    "daily_engagement[2]['account_key']"
   ]
  },
  {
   "cell_type": "markdown",
   "metadata": {},
   "source": [
    "## Missing Engagement Records"
   ]
  },
  {
   "cell_type": "code",
   "execution_count": 35,
   "metadata": {},
   "outputs": [
    {
     "name": "stdout",
     "output_type": "stream",
     "text": [
      "OrderedDict([('account_key', '1304'), ('status', 'canceled'), ('join_date', datetime.datetime(2015, 1, 10, 0, 0)), ('cancel_date', datetime.datetime(2015, 3, 10, 0, 0)), ('days_to_cancel', 59), ('is_udacity', True), ('is_canceled', True)])\n",
      "OrderedDict([('account_key', '1304'), ('status', 'canceled'), ('join_date', datetime.datetime(2015, 3, 10, 0, 0)), ('cancel_date', datetime.datetime(2015, 6, 17, 0, 0)), ('days_to_cancel', 99), ('is_udacity', True), ('is_canceled', True)])\n",
      "OrderedDict([('account_key', '1101'), ('status', 'current'), ('join_date', datetime.datetime(2015, 2, 25, 0, 0)), ('cancel_date', None), ('days_to_cancel', None), ('is_udacity', True), ('is_canceled', False)])\n"
     ]
    }
   ],
   "source": [
    "#####################################\n",
    "#                 4                 #\n",
    "#####################################\n",
    "\n",
    "## Find any one student enrollments where the student is missing from the daily engagement table.\n",
    "## Output that enrollment.\n",
    "for enrolled_user in enrollments:\n",
    "    account = enrolled_user['account_key']\n",
    "    if account not in engage_dict:\n",
    "        if enrolled_user['days_to_cancel'] is None or enrolled_user['days_to_cancel'] != 0:\n",
    "            print(enrolled_user)"
   ]
  },
  {
   "cell_type": "markdown",
   "metadata": {},
   "source": [
    "## Checking for More Problem Records"
   ]
  },
  {
   "cell_type": "code",
   "execution_count": null,
   "metadata": {
    "collapsed": true
   },
   "outputs": [],
   "source": [
    "#####################################\n",
    "#                 5                 #\n",
    "#####################################\n",
    "\n",
    "## Find the number of surprising data points (enrollments missing from\n",
    "## the engagement table) that remain, if any."
   ]
  },
  {
   "cell_type": "markdown",
   "metadata": {},
   "source": [
    "## Tracking Down the Remaining Problems"
   ]
  },
  {
   "cell_type": "code",
   "execution_count": 36,
   "metadata": {},
   "outputs": [
    {
     "data": {
      "text/plain": [
       "6"
      ]
     },
     "execution_count": 36,
     "metadata": {},
     "output_type": "execute_result"
    }
   ],
   "source": [
    "# Create a set of the account keys for all Udacity test accounts\n",
    "udacity_test_accounts = set()\n",
    "for enrollment in enrollments:\n",
    "    if enrollment['is_udacity']:\n",
    "        udacity_test_accounts.add(enrollment['account_key'])\n",
    "len(udacity_test_accounts)"
   ]
  },
  {
   "cell_type": "code",
   "execution_count": 37,
   "metadata": {
    "collapsed": true
   },
   "outputs": [],
   "source": [
    "# Given some data with an account_key field, removes any records corresponding to Udacity test accounts\n",
    "def remove_udacity_accounts(data):\n",
    "    non_udacity_data = []\n",
    "    for data_point in data:\n",
    "        if data_point['account_key'] not in udacity_test_accounts:\n",
    "            non_udacity_data.append(data_point)\n",
    "    return non_udacity_data"
   ]
  },
  {
   "cell_type": "code",
   "execution_count": 42,
   "metadata": {},
   "outputs": [
    {
     "name": "stdout",
     "output_type": "stream",
     "text": [
      "1622\n",
      "135656\n",
      "3634\n"
     ]
    }
   ],
   "source": [
    "# Remove Udacity test accounts from all three tables\n",
    "non_udacity_enrollments = remove_udacity_accounts(enrollments)\n",
    "non_udacity_engagement = remove_udacity_accounts(daily_engagement)\n",
    "non_udacity_submissions = remove_udacity_accounts(project_submissions)\n",
    "\n",
    "print(len(non_udacity_enrollments))\n",
    "print(len(non_udacity_engagement))\n",
    "print(len(non_udacity_submissions))"
   ]
  },
  {
   "cell_type": "markdown",
   "metadata": {},
   "source": [
    "## Refining the Question"
   ]
  },
  {
   "cell_type": "code",
   "execution_count": 45,
   "metadata": {},
   "outputs": [
    {
     "data": {
      "text/plain": [
       "995"
      ]
     },
     "execution_count": 45,
     "metadata": {},
     "output_type": "execute_result"
    }
   ],
   "source": [
    "#####################################\n",
    "#                 6                 #\n",
    "#####################################\n",
    "\n",
    "## Create a dictionary named paid_students containing all students who either\n",
    "## haven't canceled yet or who remained enrolled for more than 7 days. The keys\n",
    "## should be account keys, and the values should be the date the student enrolled.\n",
    "\n",
    "paid_students = {}\n",
    "for enrollment in non_udacity_enrollments:\n",
    "    if enrollment['days_to_cancel'] is None or enrollment['days_to_cancel'] > 7:\n",
    "        account_key = enrollment['account_key']\n",
    "        enrollment_date = enrollment['join_date']\n",
    "        \n",
    "        if account_key not in paid_students or paid_students[account_key] < enrollment_date:\n",
    "            paid_students[account_key] = enrollment_date\n",
    "        \n",
    "len(paid_students)"
   ]
  },
  {
   "cell_type": "markdown",
   "metadata": {},
   "source": [
    "## Getting Data from First Week"
   ]
  },
  {
   "cell_type": "code",
   "execution_count": 71,
   "metadata": {
    "collapsed": true
   },
   "outputs": [],
   "source": [
    "# Takes a student's join date and the date of a specific engagement record,\n",
    "# and returns True if that engagement record happened within one week\n",
    "# of the student joining.\n",
    "def within_one_week(join_date, engagement_date):\n",
    "    time_delta = engagement_date - join_date\n",
    "    return time_delta.days < 7 and time_delta.days >= 0"
   ]
  },
  {
   "cell_type": "code",
   "execution_count": 96,
   "metadata": {},
   "outputs": [
    {
     "data": {
      "text/plain": [
       "6919"
      ]
     },
     "execution_count": 96,
     "metadata": {},
     "output_type": "execute_result"
    }
   ],
   "source": [
    "#####################################\n",
    "#                 7                 #\n",
    "#####################################\n",
    "\n",
    "## Create a list of rows from the engagement table including only rows where\n",
    "## the student is one of the paid students you just found, and the date is within\n",
    "## one week of the student's join date.\n",
    "\n",
    "paid_engagement_in_first_week = []\n",
    "for engagement in daily_engagement:\n",
    "    engaged_account = engagement['account_key']\n",
    "    enrollment_date = paid_students.get(engaged_account)\n",
    "    engagement_date = engagement['utc_date']\n",
    "    if engagement['num_courses_visited'] > 0:\n",
    "        engagement['has_visited'] = 1\n",
    "    else:\n",
    "        engagement['has_visited'] = 0\n",
    "    \n",
    "    if enrollment_date is not None and within_one_week(enrollment_date, engagement_date):\n",
    "        paid_engagement_in_first_week.append(engagement)\n",
    "\n",
    "len(paid_engagement_in_first_week)"
   ]
  },
  {
   "cell_type": "markdown",
   "metadata": {},
   "source": [
    "## Exploring Student Engagement"
   ]
  },
  {
   "cell_type": "code",
   "execution_count": 122,
   "metadata": {
    "collapsed": true
   },
   "outputs": [],
   "source": [
    "from collections import defaultdict\n",
    "\n",
    "def group_data(data, group_by_key):\n",
    "    return_list = defaultdict(list)\n",
    "\n",
    "    for record in data:\n",
    "        grouped_by = record[group_by_key]\n",
    "        return_list[grouped_by].append(record)\n",
    "        \n",
    "    return return_list"
   ]
  },
  {
   "cell_type": "code",
   "execution_count": 98,
   "metadata": {
    "collapsed": true
   },
   "outputs": [],
   "source": [
    "def summarise_engagement_by_statistic(engagement, statistic):\n",
    "    return_dict = {}\n",
    "    for account_key, engagement_for_student in engagement.items():\n",
    "        statistic_total = 0\n",
    "        for engagement_record in engagement_for_student:\n",
    "            statistic_total += engagement_record[statistic]\n",
    "        return_dict[account_key] = statistic_total\n",
    "    \n",
    "    return return_dict"
   ]
  },
  {
   "cell_type": "code",
   "execution_count": 145,
   "metadata": {
    "collapsed": true
   },
   "outputs": [],
   "source": [
    "%matplotlib inline\n",
    "import matplotlib.pyplot as plt\n",
    "\n",
    "import seaborn as sns\n",
    "import numpy as np\n",
    "\n",
    "def describe_data(data):\n",
    "    print('Mean:', np.mean(data))\n",
    "    print('Std Deviation', np.std(data))\n",
    "    print('Min:', np.min(data))\n",
    "    print('Max:', np.max(data))\n",
    "    plt.hist(data)"
   ]
  },
  {
   "cell_type": "code",
   "execution_count": 123,
   "metadata": {
    "collapsed": true
   },
   "outputs": [],
   "source": [
    "engagement_by_account = group_data(paid_engagement_in_first_week, 'account_key')"
   ]
  },
  {
   "cell_type": "code",
   "execution_count": 101,
   "metadata": {},
   "outputs": [
    {
     "name": "stdout",
     "output_type": "stream",
     "text": [
      "Mean: 306.708326753\n",
      "Std Deviation 412.996933409\n",
      "Min: 0.0\n",
      "Max: 3564.7332645\n"
     ]
    }
   ],
   "source": [
    "total_minutes_by_account = summarise_engagement_by_statistic(engagement_by_account, 'total_minutes_visited')\n",
    "describe_data(list(total_minutes_by_account.values()))"
   ]
  },
  {
   "cell_type": "markdown",
   "metadata": {},
   "source": [
    "## Debugging Data Analysis Code"
   ]
  },
  {
   "cell_type": "code",
   "execution_count": 70,
   "metadata": {},
   "outputs": [
    {
     "name": "stdout",
     "output_type": "stream",
     "text": [
      "OrderedDict([('utc_date', datetime.datetime(2015, 1, 7, 0, 0)), ('num_courses_visited', 1), ('total_minutes_visited', 50.9938951667), ('lessons_completed', 0), ('projects_completed', 0), ('account_key', '108')])\n",
      "OrderedDict([('utc_date', datetime.datetime(2015, 1, 8, 0, 0)), ('num_courses_visited', 2), ('total_minutes_visited', 688.3034385), ('lessons_completed', 5), ('projects_completed', 0), ('account_key', '108')])\n",
      "OrderedDict([('utc_date', datetime.datetime(2015, 1, 9, 0, 0)), ('num_courses_visited', 2), ('total_minutes_visited', 427.691757667), ('lessons_completed', 1), ('projects_completed', 0), ('account_key', '108')])\n",
      "OrderedDict([('utc_date', datetime.datetime(2015, 1, 10, 0, 0)), ('num_courses_visited', 3), ('total_minutes_visited', 165.6270925), ('lessons_completed', 0), ('projects_completed', 0), ('account_key', '108')])\n",
      "OrderedDict([('utc_date', datetime.datetime(2015, 1, 11, 0, 0)), ('num_courses_visited', 0), ('total_minutes_visited', 0.0), ('lessons_completed', 0), ('projects_completed', 0), ('account_key', '108')])\n",
      "OrderedDict([('utc_date', datetime.datetime(2015, 1, 12, 0, 0)), ('num_courses_visited', 2), ('total_minutes_visited', 199.746703834), ('lessons_completed', 0), ('projects_completed', 0), ('account_key', '108')])\n",
      "OrderedDict([('utc_date', datetime.datetime(2015, 1, 13, 0, 0)), ('num_courses_visited', 1), ('total_minutes_visited', 522.626804333), ('lessons_completed', 0), ('projects_completed', 0), ('account_key', '108')])\n",
      "OrderedDict([('utc_date', datetime.datetime(2015, 1, 14, 0, 0)), ('num_courses_visited', 1), ('total_minutes_visited', 19.3757686667), ('lessons_completed', 0), ('projects_completed', 0), ('account_key', '108')])\n",
      "OrderedDict([('utc_date', datetime.datetime(2015, 1, 15, 0, 0)), ('num_courses_visited', 1), ('total_minutes_visited', 159.846594), ('lessons_completed', 1), ('projects_completed', 0), ('account_key', '108')])\n",
      "OrderedDict([('utc_date', datetime.datetime(2015, 1, 16, 0, 0)), ('num_courses_visited', 2), ('total_minutes_visited', 188.953028166), ('lessons_completed', 0), ('projects_completed', 0), ('account_key', '108')])\n",
      "OrderedDict([('utc_date', datetime.datetime(2015, 1, 17, 0, 0)), ('num_courses_visited', 3), ('total_minutes_visited', 150.338208833), ('lessons_completed', 1), ('projects_completed', 0), ('account_key', '108')])\n",
      "OrderedDict([('utc_date', datetime.datetime(2015, 1, 18, 0, 0)), ('num_courses_visited', 2), ('total_minutes_visited', 46.2042118333), ('lessons_completed', 0), ('projects_completed', 0), ('account_key', '108')])\n",
      "OrderedDict([('utc_date', datetime.datetime(2015, 1, 19, 0, 0)), ('num_courses_visited', 0), ('total_minutes_visited', 0.0), ('lessons_completed', 0), ('projects_completed', 0), ('account_key', '108')])\n",
      "OrderedDict([('utc_date', datetime.datetime(2015, 1, 20, 0, 0)), ('num_courses_visited', 0), ('total_minutes_visited', 0.0), ('lessons_completed', 0), ('projects_completed', 0), ('account_key', '108')])\n",
      "OrderedDict([('utc_date', datetime.datetime(2015, 1, 21, 0, 0)), ('num_courses_visited', 0), ('total_minutes_visited', 0.0), ('lessons_completed', 0), ('projects_completed', 0), ('account_key', '108')])\n",
      "OrderedDict([('utc_date', datetime.datetime(2015, 1, 22, 0, 0)), ('num_courses_visited', 2), ('total_minutes_visited', 31.7297723333), ('lessons_completed', 0), ('projects_completed', 0), ('account_key', '108')])\n",
      "OrderedDict([('utc_date', datetime.datetime(2015, 1, 23, 0, 0)), ('num_courses_visited', 1), ('total_minutes_visited', 206.586538333), ('lessons_completed', 0), ('projects_completed', 0), ('account_key', '108')])\n",
      "OrderedDict([('utc_date', datetime.datetime(2015, 1, 24, 0, 0)), ('num_courses_visited', 0), ('total_minutes_visited', 0.0), ('lessons_completed', 0), ('projects_completed', 0), ('account_key', '108')])\n",
      "OrderedDict([('utc_date', datetime.datetime(2015, 1, 25, 0, 0)), ('num_courses_visited', 0), ('total_minutes_visited', 0.0), ('lessons_completed', 0), ('projects_completed', 0), ('account_key', '108')])\n",
      "OrderedDict([('utc_date', datetime.datetime(2015, 1, 26, 0, 0)), ('num_courses_visited', 1), ('total_minutes_visited', 129.350111833), ('lessons_completed', 0), ('projects_completed', 0), ('account_key', '108')])\n",
      "OrderedDict([('utc_date', datetime.datetime(2015, 1, 27, 0, 0)), ('num_courses_visited', 1), ('total_minutes_visited', 73.5691376667), ('lessons_completed', 0), ('projects_completed', 0), ('account_key', '108')])\n",
      "OrderedDict([('utc_date', datetime.datetime(2015, 1, 28, 0, 0)), ('num_courses_visited', 0), ('total_minutes_visited', 0.0), ('lessons_completed', 0), ('projects_completed', 0), ('account_key', '108')])\n",
      "OrderedDict([('utc_date', datetime.datetime(2015, 1, 29, 0, 0)), ('num_courses_visited', 1), ('total_minutes_visited', 271.0895865), ('lessons_completed', 0), ('projects_completed', 0), ('account_key', '108')])\n",
      "OrderedDict([('utc_date', datetime.datetime(2015, 1, 30, 0, 0)), ('num_courses_visited', 1), ('total_minutes_visited', 432.252650333), ('lessons_completed', 1), ('projects_completed', 0), ('account_key', '108')])\n",
      "OrderedDict([('utc_date', datetime.datetime(2015, 1, 31, 0, 0)), ('num_courses_visited', 1), ('total_minutes_visited', 196.13898), ('lessons_completed', 0), ('projects_completed', 0), ('account_key', '108')])\n",
      "OrderedDict([('utc_date', datetime.datetime(2015, 2, 1, 0, 0)), ('num_courses_visited', 1), ('total_minutes_visited', 68.9915653333), ('lessons_completed', 0), ('projects_completed', 0), ('account_key', '108')])\n",
      "OrderedDict([('utc_date', datetime.datetime(2015, 2, 2, 0, 0)), ('num_courses_visited', 2), ('total_minutes_visited', 86.3277713333), ('lessons_completed', 0), ('projects_completed', 0), ('account_key', '108')])\n",
      "OrderedDict([('utc_date', datetime.datetime(2015, 2, 3, 0, 0)), ('num_courses_visited', 0), ('total_minutes_visited', 0.0), ('lessons_completed', 0), ('projects_completed', 0), ('account_key', '108')])\n",
      "OrderedDict([('utc_date', datetime.datetime(2015, 2, 4, 0, 0)), ('num_courses_visited', 0), ('total_minutes_visited', 0.0), ('lessons_completed', 0), ('projects_completed', 0), ('account_key', '108')])\n",
      "OrderedDict([('utc_date', datetime.datetime(2015, 2, 5, 0, 0)), ('num_courses_visited', 1), ('total_minutes_visited', 153.230525), ('lessons_completed', 0), ('projects_completed', 0), ('account_key', '108')])\n",
      "OrderedDict([('utc_date', datetime.datetime(2015, 2, 6, 0, 0)), ('num_courses_visited', 0), ('total_minutes_visited', 0.0), ('lessons_completed', 0), ('projects_completed', 0), ('account_key', '108')])\n",
      "OrderedDict([('utc_date', datetime.datetime(2015, 2, 7, 0, 0)), ('num_courses_visited', 0), ('total_minutes_visited', 0.0), ('lessons_completed', 0), ('projects_completed', 0), ('account_key', '108')])\n",
      "OrderedDict([('utc_date', datetime.datetime(2015, 2, 8, 0, 0)), ('num_courses_visited', 0), ('total_minutes_visited', 0.0), ('lessons_completed', 0), ('projects_completed', 0), ('account_key', '108')])\n",
      "OrderedDict([('utc_date', datetime.datetime(2015, 2, 9, 0, 0)), ('num_courses_visited', 1), ('total_minutes_visited', 16.687455), ('lessons_completed', 0), ('projects_completed', 0), ('account_key', '108')])\n",
      "OrderedDict([('utc_date', datetime.datetime(2015, 2, 10, 0, 0)), ('num_courses_visited', 1), ('total_minutes_visited', 133.047518833), ('lessons_completed', 0), ('projects_completed', 0), ('account_key', '108')])\n",
      "OrderedDict([('utc_date', datetime.datetime(2015, 2, 11, 0, 0)), ('num_courses_visited', 2), ('total_minutes_visited', 60.2176756667), ('lessons_completed', 0), ('projects_completed', 0), ('account_key', '108')])\n",
      "OrderedDict([('utc_date', datetime.datetime(2015, 2, 12, 0, 0)), ('num_courses_visited', 3), ('total_minutes_visited', 160.438302667), ('lessons_completed', 0), ('projects_completed', 0), ('account_key', '108')])\n",
      "OrderedDict([('utc_date', datetime.datetime(2015, 2, 13, 0, 0)), ('num_courses_visited', 2), ('total_minutes_visited', 506.220547), ('lessons_completed', 4), ('projects_completed', 0), ('account_key', '108')])\n",
      "OrderedDict([('utc_date', datetime.datetime(2015, 2, 14, 0, 0)), ('num_courses_visited', 1), ('total_minutes_visited', 105.095858167), ('lessons_completed', 0), ('projects_completed', 0), ('account_key', '108')])\n",
      "OrderedDict([('utc_date', datetime.datetime(2015, 2, 15, 0, 0)), ('num_courses_visited', 0), ('total_minutes_visited', 0.0), ('lessons_completed', 0), ('projects_completed', 0), ('account_key', '108')])\n",
      "OrderedDict([('utc_date', datetime.datetime(2015, 2, 16, 0, 0)), ('num_courses_visited', 0), ('total_minutes_visited', 0.0), ('lessons_completed', 0), ('projects_completed', 0), ('account_key', '108')])\n",
      "OrderedDict([('utc_date', datetime.datetime(2015, 2, 17, 0, 0)), ('num_courses_visited', 1), ('total_minutes_visited', 2.851689), ('lessons_completed', 0), ('projects_completed', 0), ('account_key', '108')])\n",
      "OrderedDict([('utc_date', datetime.datetime(2015, 2, 18, 0, 0)), ('num_courses_visited', 1), ('total_minutes_visited', 10.9540768333), ('lessons_completed', 1), ('projects_completed', 0), ('account_key', '108')])\n",
      "OrderedDict([('utc_date', datetime.datetime(2015, 2, 19, 0, 0)), ('num_courses_visited', 1), ('total_minutes_visited', 474.2906025), ('lessons_completed', 3), ('projects_completed', 0), ('account_key', '108')])\n",
      "OrderedDict([('utc_date', datetime.datetime(2015, 2, 20, 0, 0)), ('num_courses_visited', 2), ('total_minutes_visited', 820.879483167), ('lessons_completed', 5), ('projects_completed', 0), ('account_key', '108')])\n",
      "OrderedDict([('utc_date', datetime.datetime(2015, 2, 21, 0, 0)), ('num_courses_visited', 2), ('total_minutes_visited', 189.447189334), ('lessons_completed', 2), ('projects_completed', 0), ('account_key', '108')])\n",
      "OrderedDict([('utc_date', datetime.datetime(2015, 2, 22, 0, 0)), ('num_courses_visited', 2), ('total_minutes_visited', 97.7356985), ('lessons_completed', 1), ('projects_completed', 0), ('account_key', '108')])\n",
      "OrderedDict([('utc_date', datetime.datetime(2015, 2, 23, 0, 0)), ('num_courses_visited', 1), ('total_minutes_visited', 16.399642), ('lessons_completed', 0), ('projects_completed', 0), ('account_key', '108')])\n",
      "OrderedDict([('utc_date', datetime.datetime(2015, 2, 24, 0, 0)), ('num_courses_visited', 0), ('total_minutes_visited', 0.0), ('lessons_completed', 0), ('projects_completed', 0), ('account_key', '108')])\n",
      "OrderedDict([('utc_date', datetime.datetime(2015, 2, 25, 0, 0)), ('num_courses_visited', 0), ('total_minutes_visited', 0.0), ('lessons_completed', 0), ('projects_completed', 0), ('account_key', '108')])\n",
      "OrderedDict([('utc_date', datetime.datetime(2015, 2, 26, 0, 0)), ('num_courses_visited', 0), ('total_minutes_visited', 0.0), ('lessons_completed', 0), ('projects_completed', 0), ('account_key', '108')])\n",
      "OrderedDict([('utc_date', datetime.datetime(2015, 2, 27, 0, 0)), ('num_courses_visited', 0), ('total_minutes_visited', 0.0), ('lessons_completed', 0), ('projects_completed', 0), ('account_key', '108')])\n",
      "OrderedDict([('utc_date', datetime.datetime(2015, 2, 28, 0, 0)), ('num_courses_visited', 0), ('total_minutes_visited', 0.0), ('lessons_completed', 0), ('projects_completed', 0), ('account_key', '108')])\n",
      "OrderedDict([('utc_date', datetime.datetime(2015, 3, 1, 0, 0)), ('num_courses_visited', 0), ('total_minutes_visited', 0.0), ('lessons_completed', 0), ('projects_completed', 0), ('account_key', '108')])\n",
      "OrderedDict([('utc_date', datetime.datetime(2015, 3, 2, 0, 0)), ('num_courses_visited', 0), ('total_minutes_visited', 0.0), ('lessons_completed', 0), ('projects_completed', 0), ('account_key', '108')])\n",
      "OrderedDict([('utc_date', datetime.datetime(2015, 3, 3, 0, 0)), ('num_courses_visited', 0), ('total_minutes_visited', 0.0), ('lessons_completed', 0), ('projects_completed', 0), ('account_key', '108')])\n",
      "OrderedDict([('utc_date', datetime.datetime(2015, 3, 4, 0, 0)), ('num_courses_visited', 1), ('total_minutes_visited', 2.0494365), ('lessons_completed', 0), ('projects_completed', 0), ('account_key', '108')])\n",
      "OrderedDict([('utc_date', datetime.datetime(2015, 3, 5, 0, 0)), ('num_courses_visited', 0), ('total_minutes_visited', 0.0), ('lessons_completed', 0), ('projects_completed', 0), ('account_key', '108')])\n",
      "OrderedDict([('utc_date', datetime.datetime(2015, 3, 6, 0, 0)), ('num_courses_visited', 2), ('total_minutes_visited', 431.799976167), ('lessons_completed', 2), ('projects_completed', 0), ('account_key', '108')])\n",
      "OrderedDict([('utc_date', datetime.datetime(2015, 3, 7, 0, 0)), ('num_courses_visited', 1), ('total_minutes_visited', 119.514411833), ('lessons_completed', 1), ('projects_completed', 0), ('account_key', '108')])\n",
      "OrderedDict([('utc_date', datetime.datetime(2015, 3, 8, 0, 0)), ('num_courses_visited', 1), ('total_minutes_visited', 164.2608825), ('lessons_completed', 1), ('projects_completed', 0), ('account_key', '108')])\n",
      "OrderedDict([('utc_date', datetime.datetime(2015, 3, 9, 0, 0)), ('num_courses_visited', 2), ('total_minutes_visited', 179.749760666), ('lessons_completed', 0), ('projects_completed', 0), ('account_key', '108')])\n",
      "OrderedDict([('utc_date', datetime.datetime(2015, 3, 10, 0, 0)), ('num_courses_visited', 0), ('total_minutes_visited', 0.0), ('lessons_completed', 0), ('projects_completed', 0), ('account_key', '108')])\n",
      "OrderedDict([('utc_date', datetime.datetime(2015, 3, 11, 0, 0)), ('num_courses_visited', 0), ('total_minutes_visited', 0.0), ('lessons_completed', 0), ('projects_completed', 0), ('account_key', '108')])\n",
      "OrderedDict([('utc_date', datetime.datetime(2015, 3, 12, 0, 0)), ('num_courses_visited', 1), ('total_minutes_visited', 10.787165), ('lessons_completed', 0), ('projects_completed', 0), ('account_key', '108')])\n",
      "OrderedDict([('utc_date', datetime.datetime(2015, 3, 13, 0, 0)), ('num_courses_visited', 1), ('total_minutes_visited', 53.0065191667), ('lessons_completed', 0), ('projects_completed', 0), ('account_key', '108')])\n",
      "OrderedDict([('utc_date', datetime.datetime(2015, 3, 14, 0, 0)), ('num_courses_visited', 1), ('total_minutes_visited', 203.048973667), ('lessons_completed', 1), ('projects_completed', 0), ('account_key', '108')])\n",
      "OrderedDict([('utc_date', datetime.datetime(2015, 3, 15, 0, 0)), ('num_courses_visited', 1), ('total_minutes_visited', 51.2993831667), ('lessons_completed', 0), ('projects_completed', 0), ('account_key', '108')])\n",
      "OrderedDict([('utc_date', datetime.datetime(2015, 3, 16, 0, 0)), ('num_courses_visited', 0), ('total_minutes_visited', 0.0), ('lessons_completed', 0), ('projects_completed', 0), ('account_key', '108')])\n",
      "OrderedDict([('utc_date', datetime.datetime(2015, 3, 17, 0, 0)), ('num_courses_visited', 1), ('total_minutes_visited', 148.2304025), ('lessons_completed', 0), ('projects_completed', 0), ('account_key', '108')])\n",
      "OrderedDict([('utc_date', datetime.datetime(2015, 3, 18, 0, 0)), ('num_courses_visited', 1), ('total_minutes_visited', 27.5826056667), ('lessons_completed', 0), ('projects_completed', 0), ('account_key', '108')])\n",
      "OrderedDict([('utc_date', datetime.datetime(2015, 3, 19, 0, 0)), ('num_courses_visited', 0), ('total_minutes_visited', 0.0), ('lessons_completed', 0), ('projects_completed', 0), ('account_key', '108')])\n",
      "OrderedDict([('utc_date', datetime.datetime(2015, 3, 20, 0, 0)), ('num_courses_visited', 0), ('total_minutes_visited', 0.0), ('lessons_completed', 0), ('projects_completed', 0), ('account_key', '108')])\n",
      "OrderedDict([('utc_date', datetime.datetime(2015, 3, 21, 0, 0)), ('num_courses_visited', 1), ('total_minutes_visited', 14.4492643333), ('lessons_completed', 0), ('projects_completed', 0), ('account_key', '108')])\n",
      "OrderedDict([('utc_date', datetime.datetime(2015, 3, 22, 0, 0)), ('num_courses_visited', 1), ('total_minutes_visited', 159.175812667), ('lessons_completed', 1), ('projects_completed', 0), ('account_key', '108')])\n",
      "OrderedDict([('utc_date', datetime.datetime(2015, 3, 23, 0, 0)), ('num_courses_visited', 1), ('total_minutes_visited', 23.0641448333), ('lessons_completed', 0), ('projects_completed', 0), ('account_key', '108')])\n",
      "OrderedDict([('utc_date', datetime.datetime(2015, 3, 24, 0, 0)), ('num_courses_visited', 2), ('total_minutes_visited', 327.687187333), ('lessons_completed', 3), ('projects_completed', 1), ('account_key', '108')])\n",
      "OrderedDict([('utc_date', datetime.datetime(2015, 3, 25, 0, 0)), ('num_courses_visited', 1), ('total_minutes_visited', 210.324669), ('lessons_completed', 5), ('projects_completed', 0), ('account_key', '108')])\n",
      "OrderedDict([('utc_date', datetime.datetime(2015, 3, 26, 0, 0)), ('num_courses_visited', 2), ('total_minutes_visited', 114.421496), ('lessons_completed', 0), ('projects_completed', 0), ('account_key', '108')])\n",
      "OrderedDict([('utc_date', datetime.datetime(2015, 3, 27, 0, 0)), ('num_courses_visited', 1), ('total_minutes_visited', 85.2018686667), ('lessons_completed', 0), ('projects_completed', 0), ('account_key', '108')])\n",
      "OrderedDict([('utc_date', datetime.datetime(2015, 3, 28, 0, 0)), ('num_courses_visited', 1), ('total_minutes_visited', 9.53501516667), ('lessons_completed', 0), ('projects_completed', 0), ('account_key', '108')])\n",
      "OrderedDict([('utc_date', datetime.datetime(2015, 3, 29, 0, 0)), ('num_courses_visited', 0), ('total_minutes_visited', 0.0), ('lessons_completed', 0), ('projects_completed', 0), ('account_key', '108')])\n",
      "OrderedDict([('utc_date', datetime.datetime(2015, 3, 30, 0, 0)), ('num_courses_visited', 0), ('total_minutes_visited', 0.0), ('lessons_completed', 0), ('projects_completed', 0), ('account_key', '108')])\n",
      "OrderedDict([('utc_date', datetime.datetime(2015, 3, 31, 0, 0)), ('num_courses_visited', 0), ('total_minutes_visited', 0.0), ('lessons_completed', 0), ('projects_completed', 0), ('account_key', '108')])\n",
      "OrderedDict([('utc_date', datetime.datetime(2015, 4, 1, 0, 0)), ('num_courses_visited', 3), ('total_minutes_visited', 147.569145833), ('lessons_completed', 0), ('projects_completed', 0), ('account_key', '108')])\n",
      "OrderedDict([('utc_date', datetime.datetime(2015, 4, 2, 0, 0)), ('num_courses_visited', 3), ('total_minutes_visited', 77.2467501667), ('lessons_completed', 0), ('projects_completed', 0), ('account_key', '108')])\n",
      "OrderedDict([('utc_date', datetime.datetime(2015, 4, 3, 0, 0)), ('num_courses_visited', 3), ('total_minutes_visited', 84.8263243333), ('lessons_completed', 0), ('projects_completed', 0), ('account_key', '108')])\n",
      "OrderedDict([('utc_date', datetime.datetime(2015, 4, 4, 0, 0)), ('num_courses_visited', 0), ('total_minutes_visited', 0.0), ('lessons_completed', 0), ('projects_completed', 0), ('account_key', '108')])\n",
      "OrderedDict([('utc_date', datetime.datetime(2015, 4, 5, 0, 0)), ('num_courses_visited', 0), ('total_minutes_visited', 0.0), ('lessons_completed', 0), ('projects_completed', 0), ('account_key', '108')])\n",
      "OrderedDict([('utc_date', datetime.datetime(2015, 4, 6, 0, 0)), ('num_courses_visited', 2), ('total_minutes_visited', 32.9969003333), ('lessons_completed', 0), ('projects_completed', 0), ('account_key', '108')])\n",
      "OrderedDict([('utc_date', datetime.datetime(2015, 4, 7, 0, 0)), ('num_courses_visited', 1), ('total_minutes_visited', 173.764699333), ('lessons_completed', 0), ('projects_completed', 0), ('account_key', '108')])\n",
      "OrderedDict([('utc_date', datetime.datetime(2015, 4, 8, 0, 0)), ('num_courses_visited', 0), ('total_minutes_visited', 0.0), ('lessons_completed', 0), ('projects_completed', 0), ('account_key', '108')])\n",
      "OrderedDict([('utc_date', datetime.datetime(2015, 4, 9, 0, 0)), ('num_courses_visited', 1), ('total_minutes_visited', 85.6887951667), ('lessons_completed', 0), ('projects_completed', 0), ('account_key', '108')])\n",
      "OrderedDict([('utc_date', datetime.datetime(2015, 4, 10, 0, 0)), ('num_courses_visited', 2), ('total_minutes_visited', 72.4837255), ('lessons_completed', 0), ('projects_completed', 0), ('account_key', '108')])\n",
      "OrderedDict([('utc_date', datetime.datetime(2015, 4, 11, 0, 0)), ('num_courses_visited', 0), ('total_minutes_visited', 0.0), ('lessons_completed', 0), ('projects_completed', 0), ('account_key', '108')])\n",
      "OrderedDict([('utc_date', datetime.datetime(2015, 4, 12, 0, 0)), ('num_courses_visited', 0), ('total_minutes_visited', 0.0), ('lessons_completed', 0), ('projects_completed', 0), ('account_key', '108')])\n",
      "OrderedDict([('utc_date', datetime.datetime(2015, 4, 13, 0, 0)), ('num_courses_visited', 0), ('total_minutes_visited', 0.0), ('lessons_completed', 0), ('projects_completed', 0), ('account_key', '108')])\n",
      "OrderedDict([('utc_date', datetime.datetime(2015, 4, 14, 0, 0)), ('num_courses_visited', 1), ('total_minutes_visited', 36.9211676667), ('lessons_completed', 0), ('projects_completed', 0), ('account_key', '108')])\n",
      "OrderedDict([('utc_date', datetime.datetime(2015, 4, 15, 0, 0)), ('num_courses_visited', 2), ('total_minutes_visited', 179.353473333), ('lessons_completed', 1), ('projects_completed', 0), ('account_key', '108')])\n",
      "OrderedDict([('utc_date', datetime.datetime(2015, 4, 16, 0, 0)), ('num_courses_visited', 2), ('total_minutes_visited', 274.209734167), ('lessons_completed', 0), ('projects_completed', 0), ('account_key', '108')])\n",
      "OrderedDict([('utc_date', datetime.datetime(2015, 4, 17, 0, 0)), ('num_courses_visited', 1), ('total_minutes_visited', 40.340405), ('lessons_completed', 0), ('projects_completed', 0), ('account_key', '108')])\n",
      "OrderedDict([('utc_date', datetime.datetime(2015, 4, 18, 0, 0)), ('num_courses_visited', 0), ('total_minutes_visited', 0.0), ('lessons_completed', 0), ('projects_completed', 0), ('account_key', '108')])\n",
      "OrderedDict([('utc_date', datetime.datetime(2015, 4, 19, 0, 0)), ('num_courses_visited', 0), ('total_minutes_visited', 0.0), ('lessons_completed', 0), ('projects_completed', 0), ('account_key', '108')])\n",
      "OrderedDict([('utc_date', datetime.datetime(2015, 4, 20, 0, 0)), ('num_courses_visited', 2), ('total_minutes_visited', 25.9137858334), ('lessons_completed', 0), ('projects_completed', 0), ('account_key', '108')])\n",
      "OrderedDict([('utc_date', datetime.datetime(2015, 4, 21, 0, 0)), ('num_courses_visited', 1), ('total_minutes_visited', 3.40682316667), ('lessons_completed', 0), ('projects_completed', 0), ('account_key', '108')])\n",
      "OrderedDict([('utc_date', datetime.datetime(2015, 4, 22, 0, 0)), ('num_courses_visited', 2), ('total_minutes_visited', 99.1186611667), ('lessons_completed', 0), ('projects_completed', 0), ('account_key', '108')])\n",
      "OrderedDict([('utc_date', datetime.datetime(2015, 4, 23, 0, 0)), ('num_courses_visited', 1), ('total_minutes_visited', 35.8316206667), ('lessons_completed', 0), ('projects_completed', 2), ('account_key', '108')])\n",
      "OrderedDict([('utc_date', datetime.datetime(2015, 4, 24, 0, 0)), ('num_courses_visited', 0), ('total_minutes_visited', 0.0), ('lessons_completed', 0), ('projects_completed', 0), ('account_key', '108')])\n",
      "OrderedDict([('utc_date', datetime.datetime(2015, 4, 25, 0, 0)), ('num_courses_visited', 0), ('total_minutes_visited', 0.0), ('lessons_completed', 0), ('projects_completed', 0), ('account_key', '108')])\n",
      "OrderedDict([('utc_date', datetime.datetime(2015, 4, 26, 0, 0)), ('num_courses_visited', 0), ('total_minutes_visited', 0.0), ('lessons_completed', 0), ('projects_completed', 0), ('account_key', '108')])\n"
     ]
    }
   ],
   "source": [
    "#####################################\n",
    "#                 8                 #\n",
    "#####################################\n",
    "\n",
    "## Go through a similar process as before to see if there is a problem.\n",
    "## Locate at least one surprising piece of data, output it, and take a look at it.\n",
    "for engagement_record in paid_engagement_in_first_week:\n",
    "    if engagement_record['account_key'] == '108':\n",
    "        print(engagement_record)\n"
   ]
  },
  {
   "cell_type": "markdown",
   "metadata": {},
   "source": [
    "## Lessons Completed in First Week"
   ]
  },
  {
   "cell_type": "code",
   "execution_count": 89,
   "metadata": {
    "collapsed": true
   },
   "outputs": [],
   "source": [
    "#####################################\n",
    "#                 9                 #\n",
    "#####################################\n",
    "\n",
    "## Adapt the code above to find the mean, standard deviation, minimum, and maximum for\n",
    "## the number of lessons completed by each student during the first week. Try creating\n",
    "## one or more functions to re-use the code above.\n",
    "\n",
    "def summarise_engagement_by_statistic(engagement, statistic):\n",
    "    return_dict = {}\n",
    "    for account_key, engagement_for_student in engagement.items():\n",
    "        statistic_total = 0\n",
    "        for engagement_record in engagement_for_student:\n",
    "            statistic_total += engagement_record[statistic]\n",
    "        return_dict[account_key] = statistic_total\n",
    "    \n",
    "    return return_dict"
   ]
  },
  {
   "cell_type": "code",
   "execution_count": 102,
   "metadata": {},
   "outputs": [],
   "source": [
    "lessons_completed_dict = summarise_engagement_by_statistic(engagement_by_account, 'lessons_completed')"
   ]
  },
  {
   "cell_type": "code",
   "execution_count": 103,
   "metadata": {},
   "outputs": [
    {
     "name": "stdout",
     "output_type": "stream",
     "text": [
      "Mean: 1.63618090452\n",
      "Std Deviation 3.00256129983\n",
      "Min: 0\n",
      "Max: 36\n"
     ]
    }
   ],
   "source": [
    "describe_data(list(lessons_completed_dict.values()))"
   ]
  },
  {
   "cell_type": "markdown",
   "metadata": {},
   "source": [
    "## Number of Visits in First Week"
   ]
  },
  {
   "cell_type": "code",
   "execution_count": 146,
   "metadata": {},
   "outputs": [
    {
     "name": "stdout",
     "output_type": "stream",
     "text": [
      "Mean: 2.86733668342\n",
      "Std Deviation 2.25519800292\n",
      "Min: 0\n",
      "Max: 7\n"
     ]
    },
    {
     "data": {
      "image/png": "[encoded data removed]",
      "text/plain": [
       "<matplotlib.figure.Figure at 0x117b856d8>"
      ]
     },
     "metadata": {},
     "output_type": "display_data"
    }
   ],
   "source": [
    "######################################\n",
    "#                 10                 #\n",
    "######################################\n",
    "\n",
    "## Find the mean, standard deviation, minimum, and maximum for the number of\n",
    "## days each student visits the classroom during the first week.\n",
    "has_completed_dict = summarise_engagement_by_statistic(engagement_by_account, 'has_visited')\n",
    "describe_data(list(has_completed_dict.values()))"
   ]
  },
  {
   "cell_type": "markdown",
   "metadata": {},
   "source": [
    "## Splitting out Passing Students"
   ]
  },
  {
   "cell_type": "code",
   "execution_count": 106,
   "metadata": {},
   "outputs": [],
   "source": [
    "######################################\n",
    "#                 11                 #\n",
    "######################################\n",
    "\n",
    "## Create two lists of engagement data for paid students in the first week.\n",
    "## The first list should contain data for students who eventually pass the\n",
    "## subway project, and the second list should contain data for students\n",
    "## who do not.\n",
    "\n",
    "subway_project_lesson_keys = ['746169184', '3176718735']\n",
    "pass_grades = ['PASSED','DISTINCTION']\n",
    "\n",
    "pass_results = {}\n",
    "for submission in non_udacity_submissions:\n",
    "    if submission['lesson_key'] in subway_project_lesson_keys:\n",
    "        if submission['assigned_rating'] in pass_grades:\n",
    "            pass_results[submission['account_key']] = 1"
   ]
  },
  {
   "cell_type": "code",
   "execution_count": 120,
   "metadata": {},
   "outputs": [],
   "source": [
    "passing_engagement = []\n",
    "non_passing_engagement = []\n",
    "\n",
    "for engagement_data in paid_engagement_in_first_week:\n",
    "    if engagement_data['account_key'] in pass_results:\n",
    "        passing_engagement.append(engagement_data)\n",
    "    else:\n",
    "        non_passing_engagement.append(engagement_data)"
   ]
  },
  {
   "cell_type": "code",
   "execution_count": 121,
   "metadata": {},
   "outputs": [
    {
     "name": "stdout",
     "output_type": "stream",
     "text": [
      "4527\n",
      "2392\n"
     ]
    }
   ],
   "source": [
    "print(len(passing_engagement))\n",
    "print(len(non_passing_engagement))"
   ]
  },
  {
   "cell_type": "markdown",
   "metadata": {},
   "source": [
    "## Comparing the Two Student Groups"
   ]
  },
  {
   "cell_type": "code",
   "execution_count": 124,
   "metadata": {
    "collapsed": true
   },
   "outputs": [],
   "source": [
    "######################################\n",
    "#                 12                 #\n",
    "######################################\n",
    "\n",
    "## Compute some metrics you're interested in and see how they differ for\n",
    "## students who pass the subway project vs. students who don't. A good\n",
    "## starting point would be the metrics we looked at earlier (minutes spent\n",
    "## in the classroom, lessons completed, and days visited).\n",
    "\n",
    "passed_engagement_by_account = group_data(passing_engagement, 'account_key')\n",
    "failed_engagement_by_account = group_data(non_passing_engagement, 'account_key')"
   ]
  },
  {
   "cell_type": "code",
   "execution_count": 125,
   "metadata": {
    "scrolled": true
   },
   "outputs": [
    {
     "name": "stdout",
     "output_type": "stream",
     "text": [
      "Mean: 2.05255023184\n",
      "Std Deviation 3.14222705558\n",
      "Min: 0\n",
      "Max: 36\n"
     ]
    }
   ],
   "source": [
    "passed_lesson_completed = summarise_engagement_by_statistic(passed_engagement_by_account, 'lessons_completed')\n",
    "describe_data(list(passed_lesson_completed.values()))"
   ]
  },
  {
   "cell_type": "code",
   "execution_count": 126,
   "metadata": {
    "scrolled": true
   },
   "outputs": [
    {
     "name": "stdout",
     "output_type": "stream",
     "text": [
      "Mean: 0.862068965517\n",
      "Std Deviation 2.54915994183\n",
      "Min: 0\n",
      "Max: 27\n"
     ]
    }
   ],
   "source": [
    "non_passed_lesson_completed = summarise_engagement_by_statistic(failed_engagement_by_account, 'lessons_completed')\n",
    "describe_data(list(non_passed_lesson_completed.values()))"
   ]
  },
  {
   "cell_type": "code",
   "execution_count": 132,
   "metadata": {},
   "outputs": [
    {
     "name": "stdout",
     "output_type": "stream",
     "text": [
      "Mean: 3.38485316847\n",
      "Std Deviation 2.25882147092\n",
      "Min: 0\n",
      "Max: 7\n"
     ]
    }
   ],
   "source": [
    "passed_has_visited = summarise_engagement_by_statistic(passed_engagement_by_account, 'has_visited')\n",
    "describe_data(list(passed_has_visited.values()))"
   ]
  },
  {
   "cell_type": "code",
   "execution_count": 133,
   "metadata": {
    "scrolled": true
   },
   "outputs": [
    {
     "name": "stdout",
     "output_type": "stream",
     "text": [
      "Mean: 1.90517241379\n",
      "Std Deviation 1.90573144136\n",
      "Min: 0\n",
      "Max: 7\n"
     ]
    }
   ],
   "source": [
    "non_passed_has_visited = summarise_engagement_by_statistic(failed_engagement_by_account, 'has_visited')\n",
    "describe_data(list(non_passed_has_visited.values()))"
   ]
  },
  {
   "cell_type": "code",
   "execution_count": 134,
   "metadata": {},
   "outputs": [
    {
     "name": "stdout",
     "output_type": "stream",
     "text": [
      "Mean: 394.586046484\n",
      "Std Deviation 448.499519327\n",
      "Min: 0.0\n",
      "Max: 3564.7332645\n"
     ]
    }
   ],
   "source": [
    "passed_mins_visited = summarise_engagement_by_statistic(passed_engagement_by_account, 'total_minutes_visited')\n",
    "describe_data(list(passed_mins_visited.values()))"
   ]
  },
  {
   "cell_type": "code",
   "execution_count": 135,
   "metadata": {
    "scrolled": true
   },
   "outputs": [
    {
     "name": "stdout",
     "output_type": "stream",
     "text": [
      "Mean: 143.326474267\n",
      "Std Deviation 269.538619011\n",
      "Min: 0.0\n",
      "Max: 1768.52274933\n"
     ]
    }
   ],
   "source": [
    "non_passed_mins_visited = summarise_engagement_by_statistic(failed_engagement_by_account, 'total_minutes_visited')\n",
    "describe_data(list(non_passed_mins_visited.values()))"
   ]
  },
  {
   "cell_type": "code",
   "execution_count": 136,
   "metadata": {},
   "outputs": [
    {
     "data": {
      "text/plain": [
       "(array([ 370.,  155.,   83.,   19.,   10.,    4.,    2.,    3.,    0.,    1.]),\n",
       " array([    0.        ,   356.47332645,   712.9466529 ,  1069.41997935,\n",
       "         1425.8933058 ,  1782.36663225,  2138.8399587 ,  2495.31328515,\n",
       "         2851.7866116 ,  3208.25993805,  3564.7332645 ]),\n",
       " <a list of 10 Patch objects>)"
      ]
     },
     "execution_count": 136,
     "metadata": {},
     "output_type": "execute_result"
    },
    {
     "data": {
      "image/png": "[encoded data removed]",
      "text/plain": [
       "<matplotlib.figure.Figure at 0x117e98128>"
      ]
     },
     "metadata": {},
     "output_type": "display_data"
    }
   ],
   "source": [
    "plt.hist(list(passed_lesson_completed.values()))"
   ]
  },
  {
   "cell_type": "code",
   "execution_count": 137,
   "metadata": {},
   "outputs": [
    {
     "data": {
      "text/plain": [
       "(array([ 272.,   34.,   17.,    9.,    6.,    2.,    1.,    5.,    0.,    2.]),\n",
       " array([    0.        ,   176.85227493,   353.70454987,   530.5568248 ,\n",
       "          707.40909973,   884.26137467,  1061.1136496 ,  1237.96592453,\n",
       "         1414.81819947,  1591.6704744 ,  1768.52274933]),\n",
       " <a list of 10 Patch objects>)"
      ]
     },
     "execution_count": 137,
     "metadata": {},
     "output_type": "execute_result"
    },
    {
     "data": {
      "image/png": "[encoded data removed]",
      "text/plain": [
       "<matplotlib.figure.Figure at 0x117e63c50>"
      ]
     },
     "metadata": {},
     "output_type": "display_data"
    }
   ],
   "source": [
    "plt.hist(list(non_passed_lesson_completed.values()))"
   ]
  },
  {
   "cell_type": "code",
   "execution_count": 139,
   "metadata": {},
   "outputs": [
    {
     "data": {
      "text/plain": [
       "(array([ 87.,  82.,  79.,   0.,  91.,  77.,   0.,  85.,  78.,  68.]),\n",
       " array([ 0. ,  0.7,  1.4,  2.1,  2.8,  3.5,  4.2,  4.9,  5.6,  6.3,  7. ]),\n",
       " <a list of 10 Patch objects>)"
      ]
     },
     "execution_count": 139,
     "metadata": {},
     "output_type": "execute_result"
    },
    {
     "data": {
      "image/png": "[encoded data removed]",
      "text/plain": [
       "<matplotlib.figure.Figure at 0x117dfa588>"
      ]
     },
     "metadata": {},
     "output_type": "display_data"
    }
   ],
   "source": [
    "plt.hist(list(passed_has_visited.values()))"
   ]
  },
  {
   "cell_type": "code",
   "execution_count": 140,
   "metadata": {},
   "outputs": [
    {
     "data": {
      "text/plain": [
       "(array([ 97.,  90.,  56.,   0.,  41.,  15.,   0.,  24.,  17.,   8.]),\n",
       " array([ 0. ,  0.7,  1.4,  2.1,  2.8,  3.5,  4.2,  4.9,  5.6,  6.3,  7. ]),\n",
       " <a list of 10 Patch objects>)"
      ]
     },
     "execution_count": 140,
     "metadata": {},
     "output_type": "execute_result"
    },
    {
     "data": {
      "image/png": "[encoded data removed]",
      "text/plain": [
       "<matplotlib.figure.Figure at 0x117e065f8>"
      ]
     },
     "metadata": {},
     "output_type": "display_data"
    }
   ],
   "source": [
    "plt.hist(list(non_passed_has_visited.values()))"
   ]
  },
  {
   "cell_type": "code",
   "execution_count": 141,
   "metadata": {},
   "outputs": [
    {
     "data": {
      "text/plain": [
       "(array([ 370.,  155.,   83.,   19.,   10.,    4.,    2.,    3.,    0.,    1.]),\n",
       " array([    0.        ,   356.47332645,   712.9466529 ,  1069.41997935,\n",
       "         1425.8933058 ,  1782.36663225,  2138.8399587 ,  2495.31328515,\n",
       "         2851.7866116 ,  3208.25993805,  3564.7332645 ]),\n",
       " <a list of 10 Patch objects>)"
      ]
     },
     "execution_count": 141,
     "metadata": {},
     "output_type": "execute_result"
    },
    {
     "data": {
      "image/png": "[encoded data removed]",
      "text/plain": [
       "<matplotlib.figure.Figure at 0x117c98ac8>"
      ]
     },
     "metadata": {},
     "output_type": "display_data"
    }
   ],
   "source": [
    "plt.hist(list(passed_mins_visited.values()))"
   ]
  },
  {
   "cell_type": "code",
   "execution_count": 142,
   "metadata": {},
   "outputs": [
    {
     "data": {
      "text/plain": [
       "(array([ 272.,   34.,   17.,    9.,    6.,    2.,    1.,    5.,    0.,    2.]),\n",
       " array([    0.        ,   176.85227493,   353.70454987,   530.5568248 ,\n",
       "          707.40909973,   884.26137467,  1061.1136496 ,  1237.96592453,\n",
       "         1414.81819947,  1591.6704744 ,  1768.52274933]),\n",
       " <a list of 10 Patch objects>)"
      ]
     },
     "execution_count": 142,
     "metadata": {},
     "output_type": "execute_result"
    },
    {
     "data": {
      "image/png": "[encoded data removed]",
      "text/plain": [
       "<matplotlib.figure.Figure at 0x117c679e8>"
      ]
     },
     "metadata": {},
     "output_type": "display_data"
    }
   ],
   "source": [
    "plt.hist(list(non_passed_mins_visited.values()))"
   ]
  },
  {
   "cell_type": "markdown",
   "metadata": {},
   "source": [
    "## Making Histograms"
   ]
  },
  {
   "cell_type": "code",
   "execution_count": null,
   "metadata": {
    "collapsed": true
   },
   "outputs": [],
   "source": [
    "######################################\n",
    "#                 13                 #\n",
    "######################################\n",
    "\n",
    "## Make histograms of the three metrics we looked at earlier for both\n",
    "## students who passed the subway project and students who didn't. You\n",
    "## might also want to make histograms of any other metrics you examined."
   ]
  },
  {
   "cell_type": "markdown",
   "metadata": {},
   "source": [
    "## Improving Plots and Sharing Findings"
   ]
  },
  {
   "cell_type": "code",
   "execution_count": null,
   "metadata": {
    "collapsed": true
   },
   "outputs": [],
   "source": [
    "######################################\n",
    "#                 14                 #\n",
    "######################################\n",
    "\n",
    "## Make a more polished version of at least one of your visualizations\n",
    "## from earlier. Try importing the seaborn library to make the visualization\n",
    "## look better, adding axis labels and a title, and changing one or more\n",
    "## arguments to the hist() function."
   ]
  }
 ],
 "metadata": {
  "kernelspec": {
   "display_name": "Python 3",
   "language": "python",
   "name": "python3"
  },
  "language_info": {
   "codemirror_mode": {
    "name": "ipython",
    "version": 3
   },
   "file_extension": ".py",
   "mimetype": "text/x-python",
   "name": "python",
   "nbconvert_exporter": "python",
   "pygments_lexer": "ipython3",
   "version": "3.6.1"
  }
 },
 "nbformat": 4,
 "nbformat_minor": 1
}
